{
 "cells": [
  {
   "cell_type": "markdown",
   "metadata": {},
   "source": [
    "## Import libraries"
   ]
  },
  {
   "cell_type": "code",
   "execution_count": null,
   "metadata": {},
   "outputs": [],
   "source": [
    "import pandas as pd\n",
    "import numpy as np\n",
    "from datetime import datetime\n",
    "\n",
    "import matplotlib.pyplot as plt\n",
    "import seaborn as sns\n",
    "\n",
    "sns.set(style='darkgrid')"
   ]
  },
  {
   "cell_type": "markdown",
   "metadata": {},
   "source": [
    "## Load and read data"
   ]
  },
  {
   "cell_type": "code",
   "execution_count": null,
   "metadata": {},
   "outputs": [],
   "source": [
    "df = pd.read_csv('./data.csv')\n",
    "df.head()"
   ]
  },
  {
   "cell_type": "code",
   "execution_count": null,
   "metadata": {},
   "outputs": [],
   "source": [
    "df.shape"
   ]
  },
  {
   "cell_type": "code",
   "execution_count": null,
   "metadata": {},
   "outputs": [],
   "source": [
    "df.info()"
   ]
  },
  {
   "cell_type": "markdown",
   "metadata": {},
   "source": [
    "## Exploratory Data Analysis (EDA)"
   ]
  },
  {
   "cell_type": "markdown",
   "metadata": {},
   "source": [
    "### Cleaning data"
   ]
  },
  {
   "cell_type": "code",
   "execution_count": null,
   "metadata": {},
   "outputs": [],
   "source": [
    "df.dropna(subset='Price', inplace=True)\n",
    "df.isnull().sum()"
   ]
  },
  {
   "cell_type": "markdown",
   "metadata": {},
   "source": [
    "For columns **Car/Suv**, **BodyType**, the number of null is small, we consider to removing the rows with null values"
   ]
  },
  {
   "cell_type": "code",
   "execution_count": null,
   "metadata": {},
   "outputs": [],
   "source": [
    "dropna_cols = ['Car/Suv', 'BodyType']\n",
    "\n",
    "df.dropna(subset=dropna_cols, inplace=True)\n",
    "\n",
    "df.isnull().sum()"
   ]
  },
  {
   "cell_type": "markdown",
   "metadata": {},
   "source": [
    "#### Location\n",
    "\n",
    "Since there are 439 null value in **Location** column, removing these rows may result in a significant loss of data. Alternatively, we can fill the null values with a `Unknown` value."
   ]
  },
  {
   "cell_type": "code",
   "execution_count": null,
   "metadata": {},
   "outputs": [],
   "source": [
    "df['Location'].fillna(value='Unknown', inplace=True)"
   ]
  },
  {
   "cell_type": "markdown",
   "metadata": {},
   "source": [
    "#### Doors and Seats\n",
    "\n",
    "Extract the integer value from **Doors** and **Seats** columns, fill null value with mean and round them"
   ]
  },
  {
   "cell_type": "code",
   "execution_count": null,
   "metadata": {},
   "outputs": [],
   "source": [
    "df['Doors'] = df['Doors'].str.extract('(\\d+)').astype(float)\n",
    "df['Seats'] = df['Seats'].str.extract('(\\d+)').astype(float)\n",
    "\n",
    "# fillna with round mean\n",
    "df['Doors'].fillna(value=round(df['Doors'].mode.iloc[0]), inplace=True)\n",
    "df['Seats'].fillna(value=round(df['Seats'].mode.iloc[0]), inplace=True)"
   ]
  },
  {
   "cell_type": "markdown",
   "metadata": {},
   "source": [
    "### Check null values"
   ]
  },
  {
   "cell_type": "code",
   "execution_count": null,
   "metadata": {},
   "outputs": [],
   "source": [
    "df.isnull().sum()\n",
    "\n",
    "# assert all values are not null\n",
    "assert df.isnull().sum().sum() == 0"
   ]
  },
  {
   "cell_type": "markdown",
   "metadata": {},
   "source": [
    "### Check duplicates"
   ]
  },
  {
   "cell_type": "code",
   "execution_count": null,
   "metadata": {},
   "outputs": [],
   "source": [
    "df.duplicated().sum()\n",
    "\n",
    "# assert no duplicates\n",
    "assert df.duplicated().sum() == 0"
   ]
  },
  {
   "cell_type": "markdown",
   "metadata": {},
   "source": [
    "### Convert column data type"
   ]
  },
  {
   "cell_type": "code",
   "execution_count": null,
   "metadata": {},
   "outputs": [],
   "source": [
    "df.info()"
   ]
  },
  {
   "cell_type": "markdown",
   "metadata": {},
   "source": [
    "Convert the **Kilometres**, **Price** columns to a numerical data type (float) and **Year** column to integer type."
   ]
  },
  {
   "cell_type": "code",
   "execution_count": null,
   "metadata": {},
   "outputs": [],
   "source": [
    "df['Kilometres'] = pd.to_numeric(df['Kilometres'], errors='coerce')\n",
    "df[\"Price\"] = pd.to_numeric(df['Price'], errors='coerce')\n",
    "df['Year'] = df['Year'].astype(int)"
   ]
  },
  {
   "cell_type": "code",
   "execution_count": null,
   "metadata": {},
   "outputs": [],
   "source": [
    "df.info()"
   ]
  },
  {
   "cell_type": "markdown",
   "metadata": {},
   "source": [
    "Extract the numerical values from the **FuelConsumption**, **CylindersinEngine**, **Engine** column to convert it into a numerical data type (e.g., float). This will allow us to perform calculations or comparisons based on fuel consumption."
   ]
  },
  {
   "cell_type": "code",
   "execution_count": null,
   "metadata": {},
   "outputs": [],
   "source": [
    "df['FuelConsumption'] = df['FuelConsumption'].str.extract('([\\d.]+) L / 100 km').astype(float)\n",
    "df['CylindersinEngine'] = df['CylindersinEngine'].str.extract('(\\d+)').astype(float)\n",
    "df['Engine'] = df['Engine'].str.extract('([\\d.]+)').astype(float)"
   ]
  },
  {
   "cell_type": "markdown",
   "metadata": {},
   "source": [
    "Replace non-sense value of **Transmission** and **FuelType** with `Other`"
   ]
  },
  {
   "cell_type": "code",
   "execution_count": null,
   "metadata": {},
   "outputs": [],
   "source": [
    "df['Transmission'] = df['Transmission'].replace('-', 'Other')\n",
    "df['FuelType'] = df['FuelType'].replace('-', 'Other')"
   ]
  },
  {
   "cell_type": "code",
   "execution_count": null,
   "metadata": {},
   "outputs": [],
   "source": [
    "df.head()"
   ]
  },
  {
   "cell_type": "markdown",
   "metadata": {},
   "source": [
    "### Insight plot"
   ]
  },
  {
   "cell_type": "markdown",
   "metadata": {},
   "source": [
    "#### Histograms of Numerical Features"
   ]
  },
  {
   "cell_type": "code",
   "execution_count": null,
   "metadata": {},
   "outputs": [],
   "source": [
    "df.describe()"
   ]
  },
  {
   "cell_type": "code",
   "execution_count": null,
   "metadata": {},
   "outputs": [],
   "source": [
    "df.hist(bins=20, figsize=(20, 10))\n",
    "plt.suptitle('Histograms of Numerical Features')\n",
    "plt.show()"
   ]
  },
  {
   "cell_type": "markdown",
   "metadata": {},
   "source": [
    "#### Brand Distribution"
   ]
  },
  {
   "cell_type": "code",
   "execution_count": null,
   "metadata": {},
   "outputs": [],
   "source": [
    "plt.figure(figsize=(20, 6))\n",
    "brand_counts = df['Brand'].value_counts()\n",
    "plt.bar(brand_counts.index, brand_counts)\n",
    "plt.title('Brand Distribution')\n",
    "plt.xlabel('Brand')\n",
    "plt.ylabel('Count')\n",
    "plt.xticks(rotation=90, ha='right')\n",
    "plt.show()"
   ]
  },
  {
   "cell_type": "markdown",
   "metadata": {},
   "source": [
    "#### Transmission Type Distribution"
   ]
  },
  {
   "cell_type": "code",
   "execution_count": null,
   "metadata": {},
   "outputs": [],
   "source": [
    "transmission_counts = df['Transmission'].value_counts()\n",
    "plt.bar(transmission_counts.index, transmission_counts)\n",
    "plt.title('Transmission Type Distribution')\n",
    "plt.xlabel('Transmission Type')\n",
    "plt.ylabel('Count')\n",
    "plt.show()"
   ]
  },
  {
   "cell_type": "markdown",
   "metadata": {},
   "source": [
    "#### Fuel Type Distribution"
   ]
  },
  {
   "cell_type": "code",
   "execution_count": null,
   "metadata": {},
   "outputs": [],
   "source": [
    "plt.figure(figsize=(20, 6))\n",
    "\n",
    "fuel_counts = df['FuelType'].value_counts()\n",
    "plt.bar(fuel_counts.index, fuel_counts)\n",
    "plt.title('Fuel Type Distribution')\n",
    "plt.xlabel('Fuel Type')\n",
    "plt.ylabel('Count')\n",
    "plt.show()"
   ]
  },
  {
   "cell_type": "markdown",
   "metadata": {},
   "source": [
    "#### Used or New Car distribution"
   ]
  },
  {
   "cell_type": "code",
   "execution_count": null,
   "metadata": {},
   "outputs": [],
   "source": [
    "used_vs_new_counts = df['UsedOrNew'].value_counts()\n",
    "plt.bar(used_vs_new_counts.index, used_vs_new_counts)\n",
    "plt.title('Used vs. New Cars')\n",
    "plt.xlabel('Used or New')\n",
    "plt.ylabel('Count')\n",
    "plt.show()"
   ]
  },
  {
   "cell_type": "markdown",
   "metadata": {},
   "source": [
    "#### BodyType distribution"
   ]
  },
  {
   "cell_type": "code",
   "execution_count": null,
   "metadata": {},
   "outputs": [],
   "source": [
    "plt.figure(figsize=(20, 6))\n",
    "brand_counts = df['BodyType'].value_counts()\n",
    "plt.bar(brand_counts.index, brand_counts)\n",
    "plt.title('Body Type Distribution')\n",
    "plt.xlabel('Body Type')\n",
    "plt.ylabel('Count')\n",
    "plt.xticks(rotation=90, ha='right')\n",
    "plt.show()"
   ]
  },
  {
   "cell_type": "markdown",
   "metadata": {},
   "source": [
    "## Questions"
   ]
  },
  {
   "cell_type": "markdown",
   "metadata": {},
   "source": [
    "### 1. What is the distribution of vehicle age (based on the year column) for new versus used vehicles?"
   ]
  },
  {
   "cell_type": "code",
   "execution_count": null,
   "metadata": {},
   "outputs": [],
   "source": [
    "current_year = datetime.now().year\n",
    "df['VehicleAge'] = current_year - df['Year']\n",
    "\n",
    "# Separate the dataset into new and used vehicles\n",
    "new_vehicles = df[df['UsedOrNew'].str.lower() == 'new']\n",
    "used_vehicles = df[df['UsedOrNew'].str.lower() == 'used']\n",
    "\n",
    "# Plot the distribution of vehicle age for new and used vehicles\n",
    "plt.figure(figsize=(12, 6))\n",
    "\n",
    "# Plot for new vehicles\n",
    "plt.subplot(2, 1, 1)\n",
    "new_vehicles['VehicleAge'].value_counts().sort_index().plot(kind='bar')\n",
    "plt.title('Distribution of Vehicle Age for New Vehicles')\n",
    "plt.xlabel('Vehicle Age (years)')\n",
    "plt.ylabel('Frequency')\n",
    "\n",
    "# Plot for used vehicles\n",
    "plt.subplot(2, 1, 2)\n",
    "used_vehicles['VehicleAge'].value_counts().sort_index().plot(kind='bar', color='orange')\n",
    "plt.title('Distribution of Vehicle Age for Used Vehicles')\n",
    "plt.xlabel('Vehicle Age (years)')\n",
    "plt.ylabel('Frequency')\n",
    "\n",
    "# Show the plots\n",
    "plt.tight_layout()\n",
    "plt.show()"
   ]
  },
  {
   "cell_type": "markdown",
   "metadata": {},
   "source": [
    "#### **Analyze the results**:\n",
    "\n",
    "**1. New vehicles:**\n",
    "- The distribution of new vehicles is heavily skewed towards more recent years, with a concentration in the years 2023, 2022.\n",
    "\n",
    "- This skewness suggests that consumers are predominantly purchasing newer models, potentially driven by factors such as advanced features, improved technology, or warranty coverage.\n",
    "\n",
    "**2. Used vehicles:**\n",
    "- The distribution of used vehicles is more evenly spread across a wider range of manufacturing years, including both recent and older models. Accordingly, it focused on the old vehicles which are around 5, 6, 7 year old.\n",
    "\n",
    "- This broader distribution indicates a diverse selection of used vehicles in the market, providing consumers with options across various age groups.\n",
    "\n",
    "**3. Market Dynamics:**\n",
    "- The analysis highlights a clear distinction in the market dynamics between new and used vehicles. New vehicles showcase a trend of rapid turnover, while used vehicles offer a more diverse range of options, accommodating a broader budget spectrum and catering to individuals seeking different model years.\n",
    "\n",
    "**4. Consumer Preferences:**\n",
    "- Consumer preferences for new vehicles appear to align with the desire for the latest technologies and designs, as evidenced by the concentration in recent manufacturing years.\n",
    "\n",
    "- In contrast, the used vehicle market caters to consumers with varied preferences, including those looking for cost-effective options, classic models, or specific features that may not be present in the newest releases\n",
    "\n",
    "**5. Market Opportunities:**\n",
    "- Businesses in the automotive industry can capitalize on the observed trends. Dealerships may focus marketing efforts on promoting the latest models to appeal to consumers interested in new vehicles. Simultaneously, there is an opportunity to emphasize the diverse selection of used vehicles, targeting a broader audience."
   ]
  },
  {
   "cell_type": "markdown",
   "metadata": {},
   "source": [
    "### 2. How does the fuel consumption vary across different car brands (top 10 popular brands)?"
   ]
  },
  {
   "cell_type": "markdown",
   "metadata": {},
   "source": [
    "Fuel Consumption Across top 10 popular brands"
   ]
  },
  {
   "cell_type": "code",
   "execution_count": null,
   "metadata": {},
   "outputs": [],
   "source": [
    "top_10_brands_list = df['Brand'].value_counts().head(10).index\n",
    "filtered_df = df[df['Brand'].isin(top_10_brands_list)][['FuelConsumption', 'Brand']]"
   ]
  },
  {
   "cell_type": "code",
   "execution_count": null,
   "metadata": {},
   "outputs": [],
   "source": [
    "filtered_df.groupby('Brand')['FuelConsumption'].describe()"
   ]
  },
  {
   "cell_type": "code",
   "execution_count": null,
   "metadata": {},
   "outputs": [],
   "source": [
    "plt.figure(figsize=(20, 10))\n",
    "sns.boxplot(x='Brand', y='FuelConsumption', data=filtered_df)\n",
    "plt.title('Fuel Consumption Across Different Car Brands')\n",
    "plt.xlabel('Car Brand')\n",
    "plt.ylabel('Fuel Consumption (L/100km)')\n",
    "plt.xticks(rotation=45, ha='right')  # Rotate x-axis labels for better readability\n",
    "plt.show()"
   ]
  },
  {
   "cell_type": "markdown",
   "metadata": {},
   "source": [
    "Which brand offers the most fuel-efficient vehicles on average?"
   ]
  },
  {
   "cell_type": "code",
   "execution_count": null,
   "metadata": {},
   "outputs": [],
   "source": [
    "# Calculate the average fuel consumption for each brand\n",
    "avg_fuel_efficiency = filtered_df.groupby('Brand')['FuelConsumption'].mean().reset_index()\n",
    "\n",
    "# Sort the results to find the brand with the lowest average fuel consumption\n",
    "avg_fuel_efficiency = avg_fuel_efficiency.sort_values('FuelConsumption', ascending=True)\n",
    "\n",
    "# Display the results\n",
    "print(avg_fuel_efficiency)\n",
    "\n",
    "# Visualize the results using a bar chart\n",
    "plt.figure(figsize=(20, 15))\n",
    "sns.barplot(x='FuelConsumption', y='Brand', data=avg_fuel_efficiency, color='teal')\n",
    "plt.title('Average Fuel Consumption by Brand')\n",
    "plt.xlabel('Average Fuel Consumption (L/100km)')\n",
    "plt.ylabel('Brand')\n",
    "plt.show()"
   ]
  },
  {
   "cell_type": "markdown",
   "metadata": {},
   "source": [
    "#### **Analyze the result:**\n",
    "\n",
    "**1. Observation:**\n",
    "- Toyota has the highest count, indicating a large representation in the dataset.\n",
    "\n",
    "- Holden has the highest average fuel consumption among the listed brands.\n",
    "\n",
    "- Volkswagen has the lowest average fuel consumption, suggesting higher fuel efficiency on average.\n",
    "\n",
    "- There is variability in fuel consumption within each brand, as evident from the standard deviation values.\n",
    "\n",
    "- The minimum fuel consumption for all brands is 0.0, which may indicate missing or erroneous data points.\n",
    "\n",
    "- Brands like Mercedes-Benz and Volkswagen have relatively higher variability in fuel consumption, as indicated by their higher standard deviations.\n",
    "\n",
    "**2. Market Opportunities:**\n",
    "\n",
    "- Target Efficiency: Brands with lower fuel consumption (e.g., Volkswagen) can target environmentally conscious and cost-conscious consumers.\n",
    "\n",
    "- Innovation for High Consumers: Brands with higher fuel consumption (e.g., Holden) can invest in research for fuel-efficient technologies, including hybrid or electric options.\n",
    "\n",
    "- Diversify Offerings: Brands with a wide range of fuel consumption (e.g., Ford, Toyota) have opportunities to diversify products, appealing to various consumer preferences.\n",
    "\n",
    "- Leverage Brand Image: Higher-end brands (e.g., Mercedes-Benz) can capitalize on luxury and innovation, aligning with consumer preferences beyond fuel efficiency.\n",
    "\n",
    "- Educate Consumers: Brands with variability (e.g., Mercedes-Benz) can run educational campaigns to inform consumers about the range of fuel-efficient options within the brand."
   ]
  },
  {
   "cell_type": "markdown",
   "metadata": {},
   "source": [
    "### 3. Which location has the highest average price for cars?"
   ]
  },
  {
   "cell_type": "markdown",
   "metadata": {},
   "source": [
    "Extract state in location"
   ]
  },
  {
   "cell_type": "code",
   "execution_count": null,
   "metadata": {},
   "outputs": [],
   "source": [
    "def extract_state(value):\n",
    "    if ',' in value:\n",
    "        res = value.split(',')[1].strip()\n",
    "        if res == 'AU-VIC':\n",
    "            return 'VIC'\n",
    "        return res\n",
    "    return value\n",
    "\n",
    "df['State'] = df['Location'].apply(extract_state)\n",
    "df['State'].unique()"
   ]
  },
  {
   "cell_type": "markdown",
   "metadata": {},
   "source": [
    "Visualize"
   ]
  },
  {
   "cell_type": "code",
   "execution_count": null,
   "metadata": {},
   "outputs": [],
   "source": [
    "# Group the data by location and calculate the average price for each location\n",
    "average_price_by_location = df.groupby('State')['Price'].mean().sort_values(ascending=False)\n",
    "\n",
    "# Plot the results\n",
    "plt.figure(figsize=(20, 10))\n",
    "bar_plot = average_price_by_location.plot(kind='bar', color='skyblue')\n",
    "plt.title('Average Car Price by Location')\n",
    "plt.xlabel('State')\n",
    "plt.ylabel('Average Car Price')\n",
    "plt.xticks(rotation=45, ha='right')  # Rotate x-axis labels for better readability\n",
    "\n",
    "# Add data labels to the bars\n",
    "for index, value in enumerate(average_price_by_location):\n",
    "    bar_plot.text(index, value, f'${value:.2f}', ha='center', va='bottom')\n",
    "\n",
    "plt.show()"
   ]
  },
  {
   "cell_type": "markdown",
   "metadata": {},
   "source": [
    "#### **Analyze the result:**\n",
    "\n",
    "Here are some of the Market Dynamics and Opportunities:\n",
    "\n",
    "**1. Identifying High-Value Markets**:\n",
    "- \"Unknown\" locations have the highest average car prices, significantly surpassing prices in recognized states and territories.\n",
    "\n",
    "- Businesses can explore and understand the factors contributing to high prices in these unknown locations, potentially uncovering lucrative, niche markets with higher consumer purchasing power.\n",
    "\n",
    "**2. Targeting Affluent Regions**:\n",
    "- States like New South Wales (NSW) and Victoria (VIC) have relatively high average car prices.\n",
    "\n",
    "- There is an opportunity for dealerships and manufacturers to target these affluent regions with premium or luxury vehicle offerings, as consumers in these \n",
    "areas may be willing to spend more on high-end models.\n",
    "\n",
    "**3. Capitalizing on Demand in ACT**:\n",
    "- The Australian Capital Territory (ACT) has a notable average car price, indicating a potentially affluent market.\n",
    "\n",
    "- Businesses can tailor marketing strategies to emphasize premium features, advanced technologies, or exclusive models to appeal to consumers in the ACT.\n",
    "\n",
    "**4. Understanding Regional Preferences**:\n",
    "- Tasmania (TAS) and Northern Territory (NT) exhibit higher average prices compared to other states.\n",
    "\n",
    "- Analyzing local preferences, such as a preference for specific vehicle types or features, can help businesses tailor their inventory to meet the demands of these regions.\n",
    "\n",
    "**5. Exploring Growth in Western Australia (WA)**:\n",
    "- Western Australia (WA) has a competitive average car price.\n",
    "\n",
    "- Businesses might explore opportunities to further tap into this market by understanding local preferences and potentially introducing models that align with the lifestyle and preferences of consumers in WA.\n",
    "\n",
    "**6. Offering Value in Queensland (QLD) and South Australia (SA)**:\n",
    "\n",
    "- Queensland (QLD) and South Australia (SA) have relatively lower average car prices.\n",
    "\n",
    "- Opportunities lie in offering value-oriented vehicles, promotions, or financing options to appeal to a broader consumer base in these regions.\n",
    "\n",
    "**7. Adapting Strategies for Unknown Locations**:\n",
    "\n",
    "- Further investigation is needed for the \"Unknown\" category with the highest average car prices.\n",
    "\n",
    "- Businesses may want to uncover and target specific cities or regions within this category, adapting their strategies to capitalize on the high-price market potential.\n"
   ]
  }
 ],
 "metadata": {
  "kernelspec": {
   "display_name": "base",
   "language": "python",
   "name": "python3"
  },
  "language_info": {
   "codemirror_mode": {
    "name": "ipython",
    "version": 3
   },
   "file_extension": ".py",
   "mimetype": "text/x-python",
   "name": "python",
   "nbconvert_exporter": "python",
   "pygments_lexer": "ipython3",
   "version": "3.11.5"
  }
 },
 "nbformat": 4,
 "nbformat_minor": 2
}
