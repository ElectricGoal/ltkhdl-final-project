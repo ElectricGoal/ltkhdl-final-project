{
 "cells": [
  {
   "cell_type": "markdown",
   "metadata": {},
   "source": [
    "## Import libraries"
   ]
  },
  {
   "cell_type": "code",
   "execution_count": null,
   "metadata": {},
   "outputs": [],
   "source": [
    "import pandas as pd\n",
    "import numpy as np\n",
    "from datetime import datetime\n",
    "\n",
    "import matplotlib.pyplot as plt\n",
    "import seaborn as sns\n",
    "\n",
    "sns.set_palette('husl')"
   ]
  },
  {
   "cell_type": "markdown",
   "metadata": {},
   "source": [
    "## Load and read data"
   ]
  },
  {
   "cell_type": "code",
   "execution_count": null,
   "metadata": {},
   "outputs": [],
   "source": [
    "df = pd.read_csv('./data.csv')\n",
    "df.head()"
   ]
  },
  {
   "cell_type": "code",
   "execution_count": null,
   "metadata": {},
   "outputs": [],
   "source": [
    "df.shape"
   ]
  },
  {
   "cell_type": "code",
   "execution_count": null,
   "metadata": {},
   "outputs": [],
   "source": [
    "df.info()"
   ]
  },
  {
   "cell_type": "markdown",
   "metadata": {},
   "source": [
    "## Exploratory Data Analysis (EDA)"
   ]
  },
  {
   "cell_type": "markdown",
   "metadata": {},
   "source": [
    "### Cleaning data"
   ]
  },
  {
   "cell_type": "code",
   "execution_count": null,
   "metadata": {},
   "outputs": [],
   "source": [
    "df.dropna(subset='Price', inplace=True)\n",
    "df.isnull().sum()"
   ]
  },
  {
   "cell_type": "markdown",
   "metadata": {},
   "source": [
    "For columns **Car/Suv**, **BodyType**, the number of null is small, we consider to removing the rows with null values"
   ]
  },
  {
   "cell_type": "code",
   "execution_count": null,
   "metadata": {},
   "outputs": [],
   "source": [
    "dropna_cols = ['Car/Suv', 'BodyType']\n",
    "\n",
    "df.dropna(subset=dropna_cols, inplace=True)\n",
    "\n",
    "df.isnull().sum()"
   ]
  },
  {
   "cell_type": "markdown",
   "metadata": {},
   "source": [
    "#### Location\n",
    "\n",
    "Since there are 439 null value in **Location** column, removing these rows may result in a significant loss of data. Alternatively, we can fill the null values with a `Unknown` value."
   ]
  },
  {
   "cell_type": "code",
   "execution_count": null,
   "metadata": {},
   "outputs": [],
   "source": [
    "df['Location'].fillna(value='Unknown', inplace=True)"
   ]
  },
  {
   "cell_type": "markdown",
   "metadata": {},
   "source": [
    "#### Doors and Seats\n",
    "\n",
    "Extract the integer value from **Doors** and **Seats** columns, fill null value with mean and round them"
   ]
  },
  {
   "cell_type": "code",
   "execution_count": null,
   "metadata": {},
   "outputs": [],
   "source": [
    "df['Doors'] = df['Doors'].str.extract('(\\d+)').astype(float)\n",
    "df['Seats'] = df['Seats'].str.extract('(\\d+)').astype(float)\n",
    "\n",
    "# fillna with round mean\n",
    "df['Doors'].fillna(value=round(df['Doors'].mode.iloc[0]), inplace=True)\n",
    "df['Seats'].fillna(value=round(df['Seats'].mode.iloc[0]), inplace=True)"
   ]
  },
  {
   "cell_type": "markdown",
   "metadata": {},
   "source": [
    "### Check null values"
   ]
  },
  {
   "cell_type": "code",
   "execution_count": null,
   "metadata": {},
   "outputs": [],
   "source": [
    "df.isnull().sum()\n",
    "\n",
    "# assert all values are not null\n",
    "assert df.isnull().sum().sum() == 0"
   ]
  },
  {
   "cell_type": "markdown",
   "metadata": {},
   "source": [
    "### Check duplicates"
   ]
  },
  {
   "cell_type": "code",
   "execution_count": null,
   "metadata": {},
   "outputs": [],
   "source": [
    "df.duplicated().sum()\n",
    "\n",
    "# assert no duplicates\n",
    "assert df.duplicated().sum() == 0"
   ]
  },
  {
   "cell_type": "markdown",
   "metadata": {},
   "source": [
    "### Convert column data type"
   ]
  },
  {
   "cell_type": "code",
   "execution_count": null,
   "metadata": {},
   "outputs": [],
   "source": [
    "df.info()"
   ]
  },
  {
   "cell_type": "markdown",
   "metadata": {},
   "source": [
    "Convert the **Kilometres**, **Price** columns to a numerical data type (float) and **Year** column to integer type."
   ]
  },
  {
   "cell_type": "code",
   "execution_count": null,
   "metadata": {},
   "outputs": [],
   "source": [
    "df['Kilometres'] = pd.to_numeric(df['Kilometres'], errors='coerce')\n",
    "df[\"Price\"] = pd.to_numeric(df['Price'], errors='coerce')\n",
    "df['Year'] = df['Year'].astype(int)"
   ]
  },
  {
   "cell_type": "code",
   "execution_count": null,
   "metadata": {},
   "outputs": [],
   "source": [
    "df.info()"
   ]
  },
  {
   "cell_type": "markdown",
   "metadata": {},
   "source": [
    "Extract the numerical values from the **FuelConsumption**, **CylindersinEngine**, **Engine** column to convert it into a numerical data type (e.g., float). This will allow us to perform calculations or comparisons based on fuel consumption."
   ]
  },
  {
   "cell_type": "code",
   "execution_count": null,
   "metadata": {},
   "outputs": [],
   "source": [
    "df['FuelConsumption'] = df['FuelConsumption'].str.extract('([\\d.]+) L / 100 km').astype(float)\n",
    "df['CylindersinEngine'] = df['CylindersinEngine'].str.extract('(\\d+)').astype(float)\n",
    "df['Engine'] = df['Engine'].str.extract('([\\d.]+)').astype(float)"
   ]
  },
  {
   "cell_type": "markdown",
   "metadata": {},
   "source": [
    "Replace non-sense value of **Transmission** and **FuelType** with `Other`"
   ]
  },
  {
   "cell_type": "code",
   "execution_count": null,
   "metadata": {},
   "outputs": [],
   "source": [
    "df['Transmission'] = df['Transmission'].replace('-', 'Other')\n",
    "df['FuelType'] = df['FuelType'].replace('-', 'Other')"
   ]
  },
  {
   "cell_type": "code",
   "execution_count": null,
   "metadata": {},
   "outputs": [],
   "source": [
    "df.head()"
   ]
  },
  {
   "cell_type": "markdown",
   "metadata": {},
   "source": [
    "### Insight plot"
   ]
  },
  {
   "cell_type": "markdown",
   "metadata": {},
   "source": [
    "#### Histograms of Numerical Features"
   ]
  },
  {
   "cell_type": "code",
   "execution_count": null,
   "metadata": {},
   "outputs": [],
   "source": [
    "df.describe()"
   ]
  },
  {
   "cell_type": "code",
   "execution_count": null,
   "metadata": {},
   "outputs": [],
   "source": [
    "df.hist(bins=20, figsize=(20, 10))\n",
    "plt.suptitle('Histograms of Numerical Features')\n",
    "plt.show()"
   ]
  },
  {
   "cell_type": "markdown",
   "metadata": {},
   "source": [
    "The dataset shows diverse engine sizes with a peak around 4.42. Fuel consumption is centered around 7.67, mostly falling within the range of 6.5 to 8.8, with a few higher outliers. Kilometers driven vary widely, peaking around 100,021.81, with a right-skewed distribution indicating low-mileage for most vehicles and high-mileage outliers. The number of cylinders is mainly 4.0, with variations. Most vehicles have 4 doors, but there are outliers with 2 doors. Seat distribution centers around 5.1, with most having 5 seats, but some outliers have up to 22 seats. Vehicle prices vary widely, peaking around $37,280, with a right-skewed distribution indicating lower-priced vehicles as common but with high-priced outliers."
   ]
  },
  {
   "cell_type": "markdown",
   "metadata": {},
   "source": [
    "#### Brand Distribution"
   ]
  },
  {
   "cell_type": "code",
   "execution_count": null,
   "metadata": {},
   "outputs": [],
   "source": [
    "plt.figure(figsize=(20, 6))\n",
    "brand_counts = df['Brand'].value_counts()\n",
    "plt.bar(brand_counts.index, brand_counts)\n",
    "plt.title('Brand Distribution')\n",
    "plt.xlabel('Brand')\n",
    "plt.ylabel('Count')\n",
    "plt.xticks(rotation=90, ha='right')\n",
    "plt.show()"
   ]
  },
  {
   "cell_type": "markdown",
   "metadata": {},
   "source": [
    "Figure shows that `Toyota` is the most popular brand in AUS with over 2500 car models, twice as many as the second brand Hyundai. The third is Mazada has little different from `Hyundai`.\n",
    "\n",
    "`Holden`, `Ford`, `Mitsubishi`, `Nissan` has no much difference from number of car model."
   ]
  },
  {
   "cell_type": "markdown",
   "metadata": {},
   "source": [
    "#### Transmission Type Distribution"
   ]
  },
  {
   "cell_type": "code",
   "execution_count": null,
   "metadata": {},
   "outputs": [],
   "source": [
    "transmission_counts = df['Transmission'].value_counts()\n",
    "plt.bar(transmission_counts.index, transmission_counts)\n",
    "plt.title('Transmission Type Distribution')\n",
    "plt.xlabel('Transmission Type')\n",
    "plt.ylabel('Count')\n",
    "plt.show()"
   ]
  },
  {
   "cell_type": "markdown",
   "metadata": {},
   "source": [
    "The number of car models using automatic transmission is the largest among the 3 types of transmissions"
   ]
  },
  {
   "cell_type": "markdown",
   "metadata": {},
   "source": [
    "#### Fuel Type Distribution"
   ]
  },
  {
   "cell_type": "code",
   "execution_count": null,
   "metadata": {},
   "outputs": [],
   "source": [
    "plt.figure(figsize=(20, 6))\n",
    "\n",
    "fuel_counts = df['FuelType'].value_counts()\n",
    "plt.bar(fuel_counts.index, fuel_counts)\n",
    "plt.title('Fuel Type Distribution')\n",
    "plt.xlabel('Fuel Type')\n",
    "plt.ylabel('Count')\n",
    "plt.show()"
   ]
  },
  {
   "cell_type": "markdown",
   "metadata": {},
   "source": [
    "Car models using `Unleaded`, `Diesel`, `Premium` has the highest proportion"
   ]
  },
  {
   "cell_type": "markdown",
   "metadata": {},
   "source": [
    "#### Used or New Car distribution"
   ]
  },
  {
   "cell_type": "code",
   "execution_count": null,
   "metadata": {},
   "outputs": [],
   "source": [
    "used_vs_new_counts = df['UsedOrNew'].value_counts()\n",
    "plt.bar(used_vs_new_counts.index, used_vs_new_counts)\n",
    "plt.title('Used vs. New Cars')\n",
    "plt.xlabel('Used or New')\n",
    "plt.ylabel('Count')\n",
    "plt.show()"
   ]
  },
  {
   "cell_type": "markdown",
   "metadata": {},
   "source": [
    "The category with the highest model count is used cars, followed by new cars. Demo cars have a comparatively smaller representation."
   ]
  },
  {
   "cell_type": "markdown",
   "metadata": {},
   "source": [
    "#### BodyType distribution"
   ]
  },
  {
   "cell_type": "code",
   "execution_count": null,
   "metadata": {},
   "outputs": [],
   "source": [
    "plt.figure(figsize=(20, 6))\n",
    "brand_counts = df['BodyType'].value_counts()\n",
    "plt.bar(brand_counts.index, brand_counts)\n",
    "plt.title('Body Type Distribution')\n",
    "plt.xlabel('Body Type')\n",
    "plt.ylabel('Count')\n",
    "plt.xticks(rotation=90, ha='right')\n",
    "plt.show()"
   ]
  },
  {
   "cell_type": "markdown",
   "metadata": {},
   "source": [
    "The `SUV` category leads with almost 7000 models, followed by other popular types such as `Hatchback`, `Ute/Tray`, `Sedan`, and `Wagon`."
   ]
  },
  {
   "cell_type": "markdown",
   "metadata": {},
   "source": [
    "## Questions"
   ]
  },
  {
   "cell_type": "markdown",
   "metadata": {},
   "source": [
    "### 1. What is the distribution of vehicle age (based on the year column) for new versus used vehicles?"
   ]
  },
  {
   "cell_type": "code",
   "execution_count": null,
   "metadata": {},
   "outputs": [],
   "source": [
    "current_year = datetime.now().year\n",
    "df['VehicleAge'] = current_year - df['Year']\n",
    "\n",
    "# Separate the dataset into new and used vehicles\n",
    "new_vehicles = df[df['UsedOrNew'].str.lower() == 'new']\n",
    "used_vehicles = df[df['UsedOrNew'].str.lower() == 'used']\n",
    "\n",
    "# Plot the distribution of vehicle age for new and used vehicles\n",
    "plt.figure(figsize=(12, 6))\n",
    "\n",
    "# Plot for new vehicles\n",
    "plt.subplot(2, 1, 1)\n",
    "new_vehicles['VehicleAge'].value_counts().sort_index().plot(kind='bar')\n",
    "plt.title('Distribution of Vehicle Age for New Vehicles')\n",
    "plt.xlabel('Vehicle Age (years)')\n",
    "plt.ylabel('Frequency')\n",
    "\n",
    "# Plot for used vehicles\n",
    "plt.subplot(2, 1, 2)\n",
    "used_vehicles['VehicleAge'].value_counts().sort_index().plot(kind='bar', color='orange')\n",
    "plt.title('Distribution of Vehicle Age for Used Vehicles')\n",
    "plt.xlabel('Vehicle Age (years)')\n",
    "plt.ylabel('Frequency')\n",
    "\n",
    "# Show the plots\n",
    "plt.tight_layout()\n",
    "plt.show()"
   ]
  },
  {
   "cell_type": "markdown",
   "metadata": {},
   "source": [
    "#### **Analyze the results**:\n",
    "\n",
    "**1. New vehicles:**\n",
    "- The distribution of new vehicles is heavily skewed towards more recent years, with a concentration in the years 2023, 2022.\n",
    "\n",
    "- This skewness suggests that consumers are predominantly purchasing newer models, potentially driven by factors such as advanced features, improved technology, or warranty coverage.\n",
    "\n",
    "**2. Used vehicles:**\n",
    "- The distribution of used vehicles is more evenly spread across a wider range of manufacturing years, including both recent and older models. Accordingly, it focused on the old vehicles which are around 5, 6, 7 year old.\n",
    "\n",
    "- This broader distribution indicates a diverse selection of used vehicles in the market, providing consumers with options across various age groups.\n",
    "\n",
    "**3. Market Dynamics:**\n",
    "- The analysis highlights a clear distinction in the market dynamics between new and used vehicles. New vehicles showcase a trend of rapid turnover, while used vehicles offer a more diverse range of options, accommodating a broader budget spectrum and catering to individuals seeking different model years.\n",
    "\n",
    "**4. Consumer Preferences:**\n",
    "- Consumer preferences for new vehicles appear to align with the desire for the latest technologies and designs, as evidenced by the concentration in recent manufacturing years.\n",
    "\n",
    "- In contrast, the used vehicle market caters to consumers with varied preferences, including those looking for cost-effective options, classic models, or specific features that may not be present in the newest releases\n",
    "\n",
    "**5. Market Opportunities:**\n",
    "- Businesses in the automotive industry can capitalize on the observed trends. Dealerships may focus marketing efforts on promoting the latest models to appeal to consumers interested in new vehicles. Simultaneously, there is an opportunity to emphasize the diverse selection of used vehicles, targeting a broader audience."
   ]
  },
  {
   "cell_type": "markdown",
   "metadata": {},
   "source": [
    "### 2. How does the fuel consumption vary across different car brands (top 10 popular brands)?"
   ]
  },
  {
   "cell_type": "markdown",
   "metadata": {},
   "source": [
    "Fuel Consumption Across top 10 popular brands"
   ]
  },
  {
   "cell_type": "code",
   "execution_count": null,
   "metadata": {},
   "outputs": [],
   "source": [
    "top_10_brands_list = df['Brand'].value_counts().head(10).index\n",
    "filtered_df = df[df['Brand'].isin(top_10_brands_list)][['FuelConsumption', 'Brand']]"
   ]
  },
  {
   "cell_type": "code",
   "execution_count": null,
   "metadata": {},
   "outputs": [],
   "source": [
    "filtered_df.groupby('Brand')['FuelConsumption'].describe()"
   ]
  },
  {
   "cell_type": "code",
   "execution_count": null,
   "metadata": {},
   "outputs": [],
   "source": [
    "plt.figure(figsize=(20, 10))\n",
    "sns.boxplot(x='Brand', y='FuelConsumption', data=filtered_df)\n",
    "plt.title('Fuel Consumption Across Different Car Brands')\n",
    "plt.xlabel('Car Brand')\n",
    "plt.ylabel('Fuel Consumption (L/100km)')\n",
    "plt.xticks(rotation=45, ha='right')  # Rotate x-axis labels for better readability\n",
    "plt.show()"
   ]
  },
  {
   "cell_type": "markdown",
   "metadata": {},
   "source": [
    "Which brand offers the most fuel-efficient vehicles on average?"
   ]
  },
  {
   "cell_type": "code",
   "execution_count": null,
   "metadata": {},
   "outputs": [],
   "source": [
    "# Calculate the average fuel consumption for each brand\n",
    "avg_fuel_efficiency = filtered_df.groupby('Brand')['FuelConsumption'].mean().reset_index()\n",
    "\n",
    "# Sort the results to find the brand with the lowest average fuel consumption\n",
    "avg_fuel_efficiency = avg_fuel_efficiency.sort_values('FuelConsumption', ascending=True)\n",
    "\n",
    "# Display the results\n",
    "print(avg_fuel_efficiency)\n",
    "\n",
    "# Visualize the results using a bar chart\n",
    "plt.figure(figsize=(20, 15))\n",
    "sns.barplot(x='FuelConsumption', y='Brand', data=avg_fuel_efficiency, color='teal')\n",
    "plt.title('Average Fuel Consumption by Brand')\n",
    "plt.xlabel('Average Fuel Consumption (L/100km)')\n",
    "plt.ylabel('Brand')\n",
    "plt.show()"
   ]
  },
  {
   "cell_type": "markdown",
   "metadata": {},
   "source": [
    "#### **Analyze the result:**\n",
    "\n",
    "**1. Observation:**\n",
    "- Toyota has the highest count, indicating a large representation in the dataset.\n",
    "\n",
    "- Holden has the highest average fuel consumption among the listed brands.\n",
    "\n",
    "- Volkswagen has the lowest average fuel consumption, suggesting higher fuel efficiency on average.\n",
    "\n",
    "- There is variability in fuel consumption within each brand, as evident from the standard deviation values.\n",
    "\n",
    "- The minimum fuel consumption for all brands is 0.0, which may indicate missing or erroneous data points.\n",
    "\n",
    "- Brands like Mercedes-Benz and Volkswagen have relatively higher variability in fuel consumption, as indicated by their higher standard deviations.\n",
    "\n",
    "**2. Market Opportunities:**\n",
    "\n",
    "- Target Efficiency: Brands with lower fuel consumption (e.g., Volkswagen) can target environmentally conscious and cost-conscious consumers.\n",
    "\n",
    "- Innovation for High Consumers: Brands with higher fuel consumption (e.g., Holden) can invest in research for fuel-efficient technologies, including hybrid or electric options.\n",
    "\n",
    "- Diversify Offerings: Brands with a wide range of fuel consumption (e.g., Ford, Toyota) have opportunities to diversify products, appealing to various consumer preferences.\n",
    "\n",
    "- Leverage Brand Image: Higher-end brands (e.g., Mercedes-Benz) can capitalize on luxury and innovation, aligning with consumer preferences beyond fuel efficiency.\n",
    "\n",
    "- Educate Consumers: Brands with variability (e.g., Mercedes-Benz) can run educational campaigns to inform consumers about the range of fuel-efficient options within the brand."
   ]
  },
  {
   "cell_type": "markdown",
   "metadata": {},
   "source": [
    "### 3. Which location has the highest average price for cars?"
   ]
  },
  {
   "cell_type": "markdown",
   "metadata": {},
   "source": [
    "Extract state in location"
   ]
  },
  {
   "cell_type": "code",
   "execution_count": null,
   "metadata": {},
   "outputs": [],
   "source": [
    "def extract_state(value):\n",
    "    if ',' in value:\n",
    "        res = value.split(',')[1].strip()\n",
    "        if res == 'AU-VIC':\n",
    "            return 'VIC'\n",
    "        return res\n",
    "    return value\n",
    "\n",
    "df['State'] = df['Location'].apply(extract_state)\n",
    "df['State'].unique()"
   ]
  },
  {
   "cell_type": "markdown",
   "metadata": {},
   "source": [
    "Visualize"
   ]
  },
  {
   "cell_type": "code",
   "execution_count": null,
   "metadata": {},
   "outputs": [],
   "source": [
    "# Group the data by location and calculate the average price for each location\n",
    "average_price_by_location = df.groupby('State')['Price'].mean().sort_values(ascending=False)\n",
    "\n",
    "# Plot the results\n",
    "plt.figure(figsize=(20, 10))\n",
    "bar_plot = average_price_by_location.plot(kind='bar', color='skyblue')\n",
    "plt.title('Average Car Price by Location')\n",
    "plt.xlabel('State')\n",
    "plt.ylabel('Average Car Price')\n",
    "plt.xticks(rotation=45, ha='right')  # Rotate x-axis labels for better readability\n",
    "\n",
    "# Add data labels to the bars\n",
    "for index, value in enumerate(average_price_by_location):\n",
    "    bar_plot.text(index, value, f'${value:.2f}', ha='center', va='bottom')\n",
    "\n",
    "plt.show()"
   ]
  },
  {
   "cell_type": "markdown",
   "metadata": {},
   "source": [
    "#### **Analyze the result:**\n",
    "\n",
    "Here are some of the Market Dynamics and Opportunities:\n",
    "\n",
    "**1. Identifying High-Value Markets**:\n",
    "- \"Unknown\" locations have the highest average car prices, significantly surpassing prices in recognized states and territories.\n",
    "\n",
    "- Businesses can explore and understand the factors contributing to high prices in these unknown locations, potentially uncovering lucrative, niche markets with higher consumer purchasing power.\n",
    "\n",
    "**2. Targeting Affluent Regions**:\n",
    "- States like New South Wales (NSW) and Victoria (VIC) have relatively high average car prices.\n",
    "\n",
    "- There is an opportunity for dealerships and manufacturers to target these affluent regions with premium or luxury vehicle offerings, as consumers in these \n",
    "areas may be willing to spend more on high-end models.\n",
    "\n",
    "**3. Capitalizing on Demand in ACT**:\n",
    "- The Australian Capital Territory (ACT) has a notable average car price, indicating a potentially affluent market.\n",
    "\n",
    "- Businesses can tailor marketing strategies to emphasize premium features, advanced technologies, or exclusive models to appeal to consumers in the ACT.\n",
    "\n",
    "**4. Understanding Regional Preferences**:\n",
    "- Tasmania (TAS) and Northern Territory (NT) exhibit higher average prices compared to other states.\n",
    "\n",
    "- Analyzing local preferences, such as a preference for specific vehicle types or features, can help businesses tailor their inventory to meet the demands of these regions.\n",
    "\n",
    "**5. Exploring Growth in Western Australia (WA)**:\n",
    "- Western Australia (WA) has a competitive average car price.\n",
    "\n",
    "- Businesses might explore opportunities to further tap into this market by understanding local preferences and potentially introducing models that align with the lifestyle and preferences of consumers in WA.\n",
    "\n",
    "**6. Offering Value in Queensland (QLD) and South Australia (SA)**:\n",
    "\n",
    "- Queensland (QLD) and South Australia (SA) have relatively lower average car prices.\n",
    "\n",
    "- Opportunities lie in offering value-oriented vehicles, promotions, or financing options to appeal to a broader consumer base in these regions.\n",
    "\n",
    "**7. Adapting Strategies for Unknown Locations**:\n",
    "\n",
    "- Further investigation is needed for the \"Unknown\" category with the highest average car prices.\n",
    "\n",
    "- Businesses may want to uncover and target specific cities or regions within this category, adapting their strategies to capitalize on the high-price market potential.\n"
   ]
  },
  {
   "cell_type": "markdown",
   "metadata": {},
   "source": [
    "###  4. Is there a correlation between numerical data ?"
   ]
  },
  {
   "cell_type": "code",
   "execution_count": null,
   "metadata": {},
   "outputs": [],
   "source": [
    "numerical_features = df.select_dtypes(include=['float64', 'int64'])\n",
    "\n",
    "# Calculate the correlation matrix\n",
    "correlation_matrix = numerical_features.corr()\n",
    "\n",
    "# Create a heatmap\n",
    "plt.figure(figsize=(10, 8))\n",
    "sns.heatmap(correlation_matrix, annot=True, cmap='coolwarm', fmt=\".2f\", linewidths=.5)\n",
    "plt.title('Correlation Matrix Heatmap')\n",
    "plt.show()"
   ]
  },
  {
   "cell_type": "markdown",
   "metadata": {},
   "source": [
    "#### **Analyze the results:**\n",
    "\n",
    "**1. Analyze**:\n",
    "\n",
    "*1.1. Year and VehicleAge*\n",
    "\n",
    "- There is a perfect negative correlation of -1.000 between \"Year\" and \"VehicleAge,\" which is expected. As the manufacturing year decreases, the age of the vehicle increases.\n",
    "\n",
    "*1.2. Engine and CylindersinEngine:*\n",
    "\n",
    "- There is a positive correlation of 1.000 between \"Engine\" and \"CylindersinEngine,\" indicating a strong linear relationship. This is expected, as the number of cylinders in the engine is directly related to its size (displacement).\n",
    "\n",
    "*1.3. Kilometres and VehicleAge:*\n",
    "\n",
    "- There is a strong positive correlation of 0.728 between \"Kilometres\" and \"VehicleAge.\" This suggests that older vehicles tend to have higher mileage, which is a logical relationship.\n",
    "\n",
    "*1.4. Doors and Seats:*\n",
    "\n",
    "- There is a moderate positive correlation of 0.357 between \"Doors\" and \"Seats.\" This indicates that vehicles with more doors tend to have more seats, which aligns with typical car configurations.\n",
    "\n",
    "*1.5. Price and Year, Engine, Kilometres, CylindersinEngine:*\n",
    "\n",
    "- \"Price\" shows positive correlations with \"Year\" (0.361), \"Engine\" (0.326), and \"CylindersinEngine\" (0.326). This suggests that newer vehicles, larger engine sizes, and more cylinders are associated with higher prices.\n",
    "\n",
    "- There is a negative correlation of -0.398 between \"Price\" and \"Kilometres,\" indicating that as the mileage increases, the price tends to decrease.\n",
    "\n",
    "*1.6. FuelConsumption and other Variables:*\n",
    "\n",
    "- \"FuelConsumption\" shows weak correlations with other variables, indicating that fuel consumption is not strongly linked to variables such as year, engine size, or kilometers.\n",
    "\n",
    "**2. Observation:**\n",
    "\n",
    "- Newer vehicles tend to be more expensive.\n",
    "\n",
    "- Engine size and the number of cylinders are positively correlated.\n",
    "\n",
    "- Older vehicles have higher mileage.\n",
    "\n",
    "- More doors are associated with more seats.\n",
    "\n",
    "- Price is influenced by factors like newer manufacturing year, larger engine size, and fewer kilometers.\n",
    "\n",
    "**3.Market Opportunities:**\n",
    "\n",
    "- Dealerships can emphasize the value of newer models, larger engines, and lower mileage in marketing campaigns to potentially justify higher prices.\n",
    "\n",
    "- Manufacturers could explore producing vehicles with larger engines, aligning with consumer preferences that contribute to higher prices.\n",
    "\n",
    "- There may be opportunities to market older vehicles with higher mileage as budget-friendly options.\n"
   ]
  },
  {
   "cell_type": "markdown",
   "metadata": {},
   "source": [
    "### 5. What is the average price difference between new and used cars for each brand?"
   ]
  },
  {
   "cell_type": "code",
   "execution_count": null,
   "metadata": {},
   "outputs": [],
   "source": [
    "# Group the data by brand and new/used category, and calculate the average price for each group\n",
    "average_price_by_brand_category = df[df['Brand'].isin(top_10_brands_list)].groupby(['Brand', 'UsedOrNew'])['Price'].mean().reset_index()\n",
    "\n",
    "# Create a bar plot to visualize the average price difference between new and used cars for each brand\n",
    "plt.figure(figsize=(15, 8))\n",
    "sns.barplot(x='Brand', y='Price', hue='UsedOrNew', data=average_price_by_brand_category)\n",
    "plt.title('Average Price Difference Between New and Used Cars for Each Brand')\n",
    "plt.xlabel('Car Brand')\n",
    "plt.ylabel('Average Price')\n",
    "plt.xticks(rotation=45, ha='right')  # Rotate x-axis labels for better readability\n",
    "plt.legend(title='New or Used')\n",
    "plt.show()"
   ]
  },
  {
   "cell_type": "markdown",
   "metadata": {},
   "source": [
    "#### **Analyze the results:**\n",
    "\n",
    "**1. Analyze:**\n",
    "\n",
    "*1.1. Brand Variations:*\n",
    "\n",
    "- Each brand is represented across three categories: \"DEMO,\" \"NEW,\" and \"USED.\"\n",
    "\n",
    "- Brands like Ford, Hyundai, Kia, Mazda, Mercedes-Benz, Mitsubishi, Nissan, Toyota, and Volkswagen are included in the dataset.\n",
    "\n",
    "*1.2. Price Differences:*\n",
    "\n",
    "- The \"Price\" column represents the average price for each category and brand.\n",
    "\n",
    "- The \"DEMO\" category typically has prices higher than the \"NEW\" category for brands like Ford, Hyundai, Kia, Mazda, Mercedes-Benz, Mitsubishi, Nissan, and Volkswagen. This may be due to demo vehicles often having additional features or being more equipped for test drives.\n",
    "- The \"USED\" category generally has lower prices compared to both \"DEMO\" and \"NEW\" categories for most brands. This is expected, as used cars usually have lower prices than their new counterparts.\n",
    "\n",
    "*1.3. Brand-Specific Observations:*\n",
    "\n",
    "- Mercedes-Benz has a significant price difference between new and used cars, with new cars being substantially more expensive than used ones.\n",
    "\n",
    "- Some brands, such as Ford, Hyundai, and Kia, have higher average prices for demo cars compared to new cars. This might be due to specific features or conditions of demo vehicles.\n",
    "\n",
    "- Toyota shows a smaller price difference between new and used cars compared to some other brands.\n",
    "\n",
    "**2. Market Dynamics:**\n",
    "\n",
    "- Brands with higher average prices for new cars may be positioned as offering premium or high-end models.\n",
    "\n",
    "- Brands with smaller price differences or lower prices for new cars may attract cost-conscious consumers looking for more budget-friendly options.\n",
    "\n",
    "**3. Market Opportunities:**\n",
    "\n",
    "- Dealerships can capitalize on the popularity of demo cars by highlighting their features and offering test drives to potential customers.\n",
    "\n",
    "- Brands with significant price differences between new and used cars may explore marketing strategies to emphasize the value, features, or warranties associated with new models.\n",
    "\n",
    "- Brands with smaller price differences or lower average prices for new cars can target a broader consumer base by appealing to budget-conscious buyers."
   ]
  },
  {
   "cell_type": "markdown",
   "metadata": {},
   "source": [
    "### 6. What types of vehicles (brand, body type) are more popular in different locations?"
   ]
  },
  {
   "cell_type": "code",
   "execution_count": null,
   "metadata": {},
   "outputs": [],
   "source": [
    "# Group by 'Location', 'Brand', and 'BodyType', then count the occurrences\n",
    "popularity = df.groupby(['State', 'Brand', 'BodyType']).size().reset_index(name='Counts')\n",
    "\n",
    "# Sort the results to find the most popular combinations\n",
    "popularity = popularity.sort_values(by=['State', 'Counts'], ascending=[True, False])\n",
    "\n",
    "# Since there could be many locations, let's visualize the top N popular vehicle types for the first few locations\n",
    "top_n = 20\n",
    "unique_locations = popularity['State'].unique()\n",
    "\n",
    "# Create a single figure with subplots\n",
    "fig, axes = plt.subplots(nrows=len(unique_locations), figsize=(10, 6 * len(unique_locations)))\n",
    "\n",
    "for i, location in enumerate(unique_locations):\n",
    "    location_data = popularity[popularity['State'] == location].head(top_n)\n",
    "    \n",
    "    # Use the current subplot for each location\n",
    "    ax = axes[i]\n",
    "    \n",
    "    sns.barplot(x='Counts', y='Brand', hue='BodyType', data=location_data, dodge=False, ax=ax)\n",
    "    ax.set_title(f'Most Popular Vehicle Types in {location}')\n",
    "    ax.set_xlabel('Number of Vehicles')\n",
    "    ax.set_ylabel('Brand')\n",
    "    ax.legend(title='Body Type')\n",
    "\n",
    "# Adjust layout to prevent overlapping\n",
    "plt.tight_layout()\n",
    "plt.show()"
   ]
  },
  {
   "cell_type": "markdown",
   "metadata": {},
   "source": [
    "#### **Analyze the results:**\n",
    "\n",
    "**1. Observations:**\n",
    "\n",
    "*1.1. SUV Dominance:*\n",
    "\n",
    "- SUVs are consistently popular across all states, representing a significant portion of the vehicle market. Brands like Toyota, Mazda, Hyundai, and Mitsubishi often dominate the SUV category.\n",
    "\n",
    "*1.2. Toyota's Overall Dominance:*\n",
    "\n",
    "- Toyota stands out as the most popular brand in almost every state, with a strong presence across various body types, including SUVs, Ute/Tray, Hatchback, Sedan, and Wagon.\n",
    "\n",
    "*1.3. Body Type Variations:*\n",
    "\n",
    "- While SUVs are dominant, there is diversity in body types across states. Ute/Tray, Hatchback, Sedan, Wagon, and Commercial vehicles are present in varying degrees, reflecting diverse consumer preferences.\n",
    "\n",
    "*1.4. Regional Preferences:*\n",
    "\n",
    "- Each state shows unique preferences for specific brands and body types. For instance, Mitsubishi is popular in SA, Mazda in VIC, and Nissan in QLD, showcasing regional variations in brand preferences.\n",
    "\n",
    "*1.5. Premium Brands in Certain States:*\n",
    "\n",
    "- Premium brands like BMW, Audi, Mercedes-Benz, and Lexus are more prevalent in certain states, reflecting potential differences in consumer affluence and preferences.\n",
    "\n",
    "*1.6. Commercial Vehicles:*\n",
    "\n",
    "- Commercial vehicles, including Ute/Tray and Commercial categories, are present across states, highlighting the importance of these vehicles for businesses and trade.\n",
    "\n",
    "**2. Market Opportunities:**\n",
    "\n",
    "- **Capitalizing on SUV Popularity**: Manufacturers and dealerships can capitalize on the continued popularity of SUVs by introducing new models, features, or variants that align with consumer preferences.\n",
    "\n",
    "- **Strategic Brand Positioning**: Brands can strategically position themselves based on regional preferences. Understanding which brands are popular in specific states allows for more targeted marketing and product development.\n",
    "\n",
    "- **Diversification of Body Types**: Offering a diverse range of body types, including Ute/Tray, Hatchback, Sedan, and Wagon, can help car manufacturers cater to a broader audience with varying needs and preferences.\n",
    "\n",
    "- **Competitive Analysis**: Brands can conduct competitive analyses to understand their market share in each state and identify opportunities for growth or improvement.\n",
    "\n",
    "- **Premium Brand Presence**: Premium brands should focus on strengthening their presence in states where they are less dominant, potentially through strategic marketing campaigns or expanding their model offerings."
   ]
  }
 ],
 "metadata": {
  "kernelspec": {
   "display_name": "base",
   "language": "python",
   "name": "python3"
  },
  "language_info": {
   "codemirror_mode": {
    "name": "ipython",
    "version": 3
   },
   "file_extension": ".py",
   "mimetype": "text/x-python",
   "name": "python",
   "nbconvert_exporter": "python",
   "pygments_lexer": "ipython3",
   "version": "3.11.5"
  }
 },
 "nbformat": 4,
 "nbformat_minor": 2
}
